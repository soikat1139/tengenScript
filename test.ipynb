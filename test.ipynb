{
 "cells": [
  {
   "cell_type": "code",
   "execution_count": 2,
   "metadata": {},
   "outputs": [
    {
     "name": "stdout",
     "output_type": "stream",
     "text": [
      "True\n"
     ]
    }
   ],
   "source": [
    "\n",
    "class Token:\n",
    "    v=name=\"Tokens1\"\n",
    "    def __init__(self,type,value):\n",
    "        self.value=value\n",
    "        self.type=type\n",
    "    def matches(self,keyword,value):\n",
    "        if keyword==self.type and value==self.value:\n",
    "            return True\n",
    "        else:\n",
    "            return False\n",
    "\n",
    "    def selfCheck(self):\n",
    "        new=Token(\"INT\",5)\n",
    "        res=new.matches(\"INT\",5)\n",
    "        return res\n",
    "\n",
    "\n",
    "\n",
    "\n",
    "tok=Token(\"INT\",6)\n",
    "\n",
    "\n",
    "print(tok.selfCheck())"
   ]
  },
  {
   "cell_type": "code",
   "execution_count": 4,
   "metadata": {},
   "outputs": [
    {
     "name": "stdout",
     "output_type": "stream",
     "text": [
      "amit Vatiaa\n"
     ]
    }
   ],
   "source": [
    "res=\"\"\n",
    "\n",
    "res=res+\"amit\"\n",
    "res=res+\" \"\n",
    "res=res+\"Vatia\"\n",
    "\n",
    "res+=\"a\" if 3>2 else \"b\"\n",
    "\n",
    "print(res)\n"
   ]
  }
 ],
 "metadata": {
  "kernelspec": {
   "display_name": "Python 3",
   "language": "python",
   "name": "python3"
  },
  "language_info": {
   "codemirror_mode": {
    "name": "ipython",
    "version": 3
   },
   "file_extension": ".py",
   "mimetype": "text/x-python",
   "name": "python",
   "nbconvert_exporter": "python",
   "pygments_lexer": "ipython3",
   "version": "3.11.1"
  },
  "orig_nbformat": 4,
  "vscode": {
   "interpreter": {
    "hash": "ebfc0a8d552866b0d59eba665220a57de3bc06f3ac643b8bef38dd8f66781fdd"
   }
  }
 },
 "nbformat": 4,
 "nbformat_minor": 2
}
